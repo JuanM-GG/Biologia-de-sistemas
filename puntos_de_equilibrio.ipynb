{
  "nbformat": 4,
  "nbformat_minor": 0,
  "metadata": {
    "colab": {
      "name": "Untitled21.ipynb",
      "provenance": [],
      "authorship_tag": "ABX9TyP9S+0PSgrGRIpPTL2XLBJD",
      "include_colab_link": true
    },
    "kernelspec": {
      "name": "python3",
      "display_name": "Python 3"
    }
  },
  "cells": [
    {
      "cell_type": "markdown",
      "metadata": {
        "id": "view-in-github",
        "colab_type": "text"
      },
      "source": [
        "<a href=\"https://colab.research.google.com/github/JuanM-GG/Biologia-de-sistemas/blob/main/puntos_de_equilibrio.ipynb\" target=\"_parent\"><img src=\"https://colab.research.google.com/assets/colab-badge.svg\" alt=\"Open In Colab\"/></a>"
      ]
    },
    {
      "cell_type": "markdown",
      "metadata": {
        "id": "ZC8enva8x33e"
      },
      "source": [
        "Título:  Puntos de equilibrio con Python\r\n",
        "\r\n",
        "Nombre: Biología de sistemas\r\n",
        "\r\n",
        "Fecha: 20 de diciembre del 2020"
      ]
    },
    {
      "cell_type": "code",
      "metadata": {
        "id": "KF7qdSFUx5mU"
      },
      "source": [
        "import numpy as np\r\n",
        "from sympy import symbols, Eq, solve"
      ],
      "execution_count": 31,
      "outputs": []
    },
    {
      "cell_type": "code",
      "metadata": {
        "id": "_-VxHD659Cxu"
      },
      "source": [
        "x, s = symbols(\"x, s\")"
      ],
      "execution_count": 32,
      "outputs": []
    },
    {
      "cell_type": "code",
      "metadata": {
        "id": "TpJNsFQVu3Ck"
      },
      "source": [
        "v, y, k, D, sin = symbols(\"v, y, k, D, sin\")"
      ],
      "execution_count": 33,
      "outputs": []
    },
    {
      "cell_type": "code",
      "metadata": {
        "id": "MjCvyk0wutHg"
      },
      "source": [
        "eq1 = Eq(-v/y*(s/(k + s))*x + D*(sin - s), 0)\r\n",
        "eq2 = Eq(v*(s/(k + s))*x - D*x, 0)"
      ],
      "execution_count": 34,
      "outputs": []
    },
    {
      "cell_type": "code",
      "metadata": {
        "colab": {
          "base_uri": "https://localhost:8080/",
          "height": 51
        },
        "id": "nPcfEevLv15p",
        "outputId": "f861f229-51b2-4b01-8729-7a1ce45d6504"
      },
      "source": [
        "display(eq1)\r\n",
        "display(eq2)"
      ],
      "execution_count": 35,
      "outputs": [
        {
          "output_type": "display_data",
          "data": {
            "text/plain": [
              "Eq(D*(-s + sin) - s*v*x/(y*(k + s)), 0)"
            ]
          },
          "metadata": {
            "tags": []
          }
        },
        {
          "output_type": "display_data",
          "data": {
            "text/plain": [
              "Eq(-D*x + s*v*x/(k + s), 0)"
            ]
          },
          "metadata": {
            "tags": []
          }
        }
      ]
    },
    {
      "cell_type": "code",
      "metadata": {
        "colab": {
          "base_uri": "https://localhost:8080/"
        },
        "id": "oODZEmudwDYw",
        "outputId": "37d5c56a-f182-4ded-ed24-ccfe954a063d"
      },
      "source": [
        "sol = solve([eq1, eq2], [x, s])\r\n",
        "sol"
      ],
      "execution_count": 37,
      "outputs": [
        {
          "output_type": "execute_result",
          "data": {
            "text/plain": [
              "[(0, sin), (y*(D*k + sin*(D - v))/(D - v), D*k/(-D + v))]"
            ]
          },
          "metadata": {
            "tags": []
          },
          "execution_count": 37
        }
      ]
    }
  ]
}