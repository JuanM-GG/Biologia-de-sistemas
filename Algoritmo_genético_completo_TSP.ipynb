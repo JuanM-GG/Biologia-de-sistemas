{
  "nbformat": 4,
  "nbformat_minor": 0,
  "metadata": {
    "colab": {
      "name": "Algoritmo genético completo TSP.ipynb",
      "provenance": [],
      "collapsed_sections": [],
      "include_colab_link": true
    },
    "kernelspec": {
      "name": "python3",
      "display_name": "Python 3"
    }
  },
  "cells": [
    {
      "cell_type": "markdown",
      "metadata": {
        "id": "view-in-github",
        "colab_type": "text"
      },
      "source": [
        "<a href=\"https://colab.research.google.com/github/JuanM-GG/Biologia-de-sistemas/blob/main/Algoritmo_gen%C3%A9tico_completo_TSP.ipynb\" target=\"_parent\"><img src=\"https://colab.research.google.com/assets/colab-badge.svg\" alt=\"Open In Colab\"/></a>"
      ]
    },
    {
      "cell_type": "markdown",
      "metadata": {
        "id": "z7nInL55vTxi"
      },
      "source": [
        "# Introduction\n",
        "Genetic algorithms work by iterating over generations of populations and evaluation how well these populations solve a problem. At the end of a generation, the best individuals are selected to produce the next generation. \n",
        "\n",
        "The code presented in this blog has been adapted from:\n",
        "\n",
        "\n",
        "**Zaccone G. (2019). Natural Computing with Python: Learn to implement genetic and evolutionary algorithms for problem solving in a pythonic way. BPB Publications.**\n",
        "\n"
      ]
    },
    {
      "cell_type": "markdown",
      "metadata": {
        "id": "rJxFpNyT3kMx"
      },
      "source": [
        "# Imports\n",
        "First we import all necessary modules."
      ]
    },
    {
      "cell_type": "code",
      "metadata": {
        "id": "lNADfQ4m1_CT"
      },
      "source": [
        "import numpy as np, random, operator, pandas as pd, matplotlib.pyplot as plt"
      ],
      "execution_count": 2,
      "outputs": []
    },
    {
      "cell_type": "markdown",
      "metadata": {
        "id": "yx3DB0K1cSNj"
      },
      "source": [
        ""
      ]
    },
    {
      "cell_type": "markdown",
      "metadata": {
        "id": "ViXnTe3z4FR5"
      },
      "source": [
        "# Data Representation\n",
        "Because we are going to work with the simplest form of the TSP, we need a way to represent the data:"
      ]
    },
    {
      "cell_type": "code",
      "metadata": {
        "cellView": "code",
        "id": "ROLT-ZpA1CLC"
      },
      "source": [
        "#Create class to handle \"cities\"\n",
        "class City:\n",
        "    # constructor\n",
        "    def __init__(self,name, x, y):\n",
        "        self.name = name\n",
        "        self.x = x\n",
        "        self.y = y\n",
        "    \n",
        "    # módulos \n",
        "    def distance(self, city):\n",
        "        xDis = abs(self.x - city.x)\n",
        "        yDis = abs(self.y - city.y)\n",
        "        distance = np.sqrt((xDis ** 2) + (yDis ** 2))\n",
        "        return distance\n",
        "    \n",
        "    def __repr__(self):\n",
        "        return \"(\" + str(self.name)+ \")\"\n"
      ],
      "execution_count": 3,
      "outputs": []
    },
    {
      "cell_type": "markdown",
      "metadata": {
        "id": "gNEDY-zc4iMN"
      },
      "source": [
        "# How the algorithm works?"
      ]
    },
    {
      "cell_type": "markdown",
      "metadata": {
        "id": "hYM1BG7r5guj"
      },
      "source": [
        "## The concept of individual\n",
        "An individual can be seen as a single instance of the problem, for this case it's easy to see that the individual is the sequence of \"cities\" and the order that they are visited."
      ]
    },
    {
      "cell_type": "markdown",
      "metadata": {
        "id": "x1s3gUe54ufz"
      },
      "source": [
        "## Fitness\n",
        "Genetic algorithms mimic natural structures using the idea of \"Survival of the fittest\", so it's important to define a common fitness function for all individuals. For this case, the fitness of an individual is the sum of the distance for each pair of consecutive cities, including the sum of the last city in the sequence and the first (because TSP forms a loop).\n",
        ">$Fitness=[\\sum_{i=1}^{N-1} Distance(City_{i},City_{i+1})]+Distance(City_{N},City_{1})$\n",
        "\n",
        "This \"Distance\" function is just the euclidian distance between each city."
      ]
    },
    {
      "cell_type": "code",
      "metadata": {
        "id": "zQegs4FO5dki"
      },
      "source": [
        "#Create a fitness function\n",
        "\n",
        "class Fitness:\n",
        "    # constructor\n",
        "    def __init__(self, route):\n",
        "        # atributos de la clase\n",
        "        self.route = route\n",
        "        self.distance = 0\n",
        "        self.fitness= 0.0\n",
        "    \n",
        "    # módulos para calcular los atributos distance y fitness\n",
        "    def routeDistance(self):\n",
        "        if self.distance == 0:\n",
        "            pathDistance = 0\n",
        "            for i in range(0, len(self.route)):\n",
        "                fromCity = self.route[i] # self.route[i] pertenece a la clase City y por lo tanto tiene el módulo distance\n",
        "                toCity = None\n",
        "                if i + 1 < len(self.route):\n",
        "                    toCity = self.route[i + 1]\n",
        "                else:\n",
        "                    toCity = self.route[0]\n",
        "                pathDistance += fromCity.distance(toCity) # calcula la distancia entre fromCity y toCity\n",
        "            self.distance = pathDistance # suma esta distancia a las distancias anteriores\n",
        "        return self.distance\n",
        "    \n",
        "    def routeFitness(self):\n",
        "        if self.fitness == 0:\n",
        "            self.fitness = 1 / float(self.routeDistance())\n",
        "        return self.fitness"
      ],
      "execution_count": 4,
      "outputs": []
    },
    {
      "cell_type": "markdown",
      "metadata": {
        "id": "wyC-WOKx8VxV"
      },
      "source": [
        "## Mutation and Breeding\n",
        "The algorithm creates the next generations using two methods, either mutating single individuals based on a probability, or \"mating\" two individual to create a new one. Here we define all necesarry functions to perform the algorithm."
      ]
    },
    {
      "cell_type": "code",
      "metadata": {
        "id": "WrwEWmdrueI6",
        "outputId": "a26625c9-fcf4-4b35-aa30-d6485693e78b",
        "colab": {
          "base_uri": "https://localhost:8080/"
        }
      },
      "source": [
        "#puedo crear una lista de tuplas \n",
        "[(1,2), (3,4),(5,6)]"
      ],
      "execution_count": 23,
      "outputs": [
        {
          "output_type": "execute_result",
          "data": {
            "text/plain": [
              "[(1, 2), (3, 4), (5, 6)]"
            ]
          },
          "metadata": {
            "tags": []
          },
          "execution_count": 23
        }
      ]
    },
    {
      "cell_type": "code",
      "metadata": {
        "id": "W0kOJDLMvOOx"
      },
      "source": [
        "#Create our initial population\n",
        "#Route generator\n",
        "#This method randomizes the order of the cities, this mean that this method creates a random individual.\n",
        "def createRoute(cityList):\n",
        "    route = random.sample(cityList, len(cityList))\n",
        "    return route"
      ],
      "execution_count": 26,
      "outputs": []
    },
    {
      "cell_type": "code",
      "metadata": {
        "id": "qxkKmLBJvRDq"
      },
      "source": [
        "#Create first \"population\" (list of routes)\n",
        "#This method creates a random population of the specified size.\n",
        "\n",
        "def initialPopulation(popSize, cityList):\n",
        "    population = []\n",
        "\n",
        "    for i in range(0, popSize):\n",
        "        population.append(createRoute(cityList))\n",
        "    return population"
      ],
      "execution_count": null,
      "outputs": []
    },
    {
      "cell_type": "code",
      "metadata": {
        "id": "4baEFZcMvtDG"
      },
      "source": [
        "population = initialPopulation(3, cityList)"
      ],
      "execution_count": 33,
      "outputs": []
    },
    {
      "cell_type": "code",
      "metadata": {
        "id": "kc74LP4RvTUV"
      },
      "source": [
        "#Rank individuals\n",
        "#This function takes a population and orders it in descending order using the fitness of each individual\n",
        "def rankRoutes(population):\n",
        "    fitnessResults = {}\n",
        "    for i in range(0,len(population)):\n",
        "        fitnessResults[i] = Fitness(population[i]).routeFitness()\n",
        "                        # contiene la ruta y su fitness        0->populaion, 1->fitness\n",
        "    sorted_results=sorted(fitnessResults.items(), key = operator.itemgetter(1), reverse = True) # ordena de mayor a menor fitness\n",
        "    return sorted_results"
      ],
      "execution_count": 46,
      "outputs": []
    },
    {
      "cell_type": "code",
      "metadata": {
        "id": "eXC3FyHYv66v",
        "outputId": "7b360e50-2d97-4fd7-a70f-0325cc7e875d",
        "colab": {
          "base_uri": "https://localhost:8080/"
        }
      },
      "source": [
        "rankRoutes(population)  "
      ],
      "execution_count": 47,
      "outputs": [
        {
          "output_type": "execute_result",
          "data": {
            "text/plain": [
              "[(1, 0.00042031301267919126),\n",
              " (2, 0.00040152545203373836),\n",
              " (0, 0.0003998360532906917)]"
            ]
          },
          "metadata": {
            "tags": []
          },
          "execution_count": 47
        }
      ]
    },
    {
      "cell_type": "code",
      "metadata": {
        "id": "AeUpCqAtwTca",
        "outputId": "6a4c0e31-46dc-46cf-e1d8-92b4902d3f07",
        "colab": {
          "base_uri": "https://localhost:8080/"
        }
      },
      "source": [
        "type(fitnessResults.items())"
      ],
      "execution_count": 42,
      "outputs": [
        {
          "output_type": "execute_result",
          "data": {
            "text/plain": [
              "dict_items"
            ]
          },
          "metadata": {
            "tags": []
          },
          "execution_count": 42
        }
      ]
    },
    {
      "cell_type": "code",
      "metadata": {
        "id": "-dL7oXs3yVNs",
        "outputId": "5d76eee2-c6e5-4ba1-ea73-d73fedcc96f7",
        "colab": {
          "base_uri": "https://localhost:8080/",
          "height": 142
        }
      },
      "source": [
        "df = pd.DataFrame(np.array(rankRoutes(population)), columns=[\"Index\",\"Fitness\"])\n",
        "df"
      ],
      "execution_count": 49,
      "outputs": [
        {
          "output_type": "execute_result",
          "data": {
            "text/html": [
              "<div>\n",
              "<style scoped>\n",
              "    .dataframe tbody tr th:only-of-type {\n",
              "        vertical-align: middle;\n",
              "    }\n",
              "\n",
              "    .dataframe tbody tr th {\n",
              "        vertical-align: top;\n",
              "    }\n",
              "\n",
              "    .dataframe thead th {\n",
              "        text-align: right;\n",
              "    }\n",
              "</style>\n",
              "<table border=\"1\" class=\"dataframe\">\n",
              "  <thead>\n",
              "    <tr style=\"text-align: right;\">\n",
              "      <th></th>\n",
              "      <th>Index</th>\n",
              "      <th>Fitness</th>\n",
              "    </tr>\n",
              "  </thead>\n",
              "  <tbody>\n",
              "    <tr>\n",
              "      <th>0</th>\n",
              "      <td>1.0</td>\n",
              "      <td>0.000420</td>\n",
              "    </tr>\n",
              "    <tr>\n",
              "      <th>1</th>\n",
              "      <td>2.0</td>\n",
              "      <td>0.000402</td>\n",
              "    </tr>\n",
              "    <tr>\n",
              "      <th>2</th>\n",
              "      <td>0.0</td>\n",
              "      <td>0.000400</td>\n",
              "    </tr>\n",
              "  </tbody>\n",
              "</table>\n",
              "</div>"
            ],
            "text/plain": [
              "   Index   Fitness\n",
              "0    1.0  0.000420\n",
              "1    2.0  0.000402\n",
              "2    0.0  0.000400"
            ]
          },
          "metadata": {
            "tags": []
          },
          "execution_count": 49
        }
      ]
    },
    {
      "cell_type": "code",
      "metadata": {
        "id": "YEj3PpljyhP1",
        "outputId": "8eb88217-1622-438c-fdf5-a3bd50668199",
        "colab": {
          "base_uri": "https://localhost:8080/",
          "height": 142
        }
      },
      "source": [
        "df['cum_sum'] = df.Fitness.cumsum()\n",
        "df['cum_perc'] = 100*df.cum_sum/df.Fitness.sum()\n",
        "df"
      ],
      "execution_count": 51,
      "outputs": [
        {
          "output_type": "execute_result",
          "data": {
            "text/html": [
              "<div>\n",
              "<style scoped>\n",
              "    .dataframe tbody tr th:only-of-type {\n",
              "        vertical-align: middle;\n",
              "    }\n",
              "\n",
              "    .dataframe tbody tr th {\n",
              "        vertical-align: top;\n",
              "    }\n",
              "\n",
              "    .dataframe thead th {\n",
              "        text-align: right;\n",
              "    }\n",
              "</style>\n",
              "<table border=\"1\" class=\"dataframe\">\n",
              "  <thead>\n",
              "    <tr style=\"text-align: right;\">\n",
              "      <th></th>\n",
              "      <th>Index</th>\n",
              "      <th>Fitness</th>\n",
              "      <th>cum_sum</th>\n",
              "      <th>cum_perc</th>\n",
              "    </tr>\n",
              "  </thead>\n",
              "  <tbody>\n",
              "    <tr>\n",
              "      <th>0</th>\n",
              "      <td>1.0</td>\n",
              "      <td>0.000420</td>\n",
              "      <td>0.000420</td>\n",
              "      <td>34.404664</td>\n",
              "    </tr>\n",
              "    <tr>\n",
              "      <th>1</th>\n",
              "      <td>2.0</td>\n",
              "      <td>0.000402</td>\n",
              "      <td>0.000822</td>\n",
              "      <td>67.271475</td>\n",
              "    </tr>\n",
              "    <tr>\n",
              "      <th>2</th>\n",
              "      <td>0.0</td>\n",
              "      <td>0.000400</td>\n",
              "      <td>0.001222</td>\n",
              "      <td>100.000000</td>\n",
              "    </tr>\n",
              "  </tbody>\n",
              "</table>\n",
              "</div>"
            ],
            "text/plain": [
              "   Index   Fitness   cum_sum    cum_perc\n",
              "0    1.0  0.000420  0.000420   34.404664\n",
              "1    2.0  0.000402  0.000822   67.271475\n",
              "2    0.0  0.000400  0.001222  100.000000"
            ]
          },
          "metadata": {
            "tags": []
          },
          "execution_count": 51
        }
      ]
    },
    {
      "cell_type": "code",
      "metadata": {
        "id": "j9haq4ILvWdr"
      },
      "source": [
        "#Create a selection function that will be used to make the list of parent routes\n",
        " # popRanked -> index, fitness; # popRanked es un directorio\n",
        "def selection(popRanked, eliteSize):\n",
        "    selectionResults = []\n",
        "    df = pd.DataFrame(np.array(popRanked), columns=[\"Index\",\"Fitness\"])\n",
        "    df['cum_sum'] = df.Fitness.cumsum()\n",
        "    df['cum_perc'] = 100*df.cum_sum/df.Fitness.sum()\n",
        "    \n",
        "    for i in range(0, eliteSize):\n",
        "        selectionResults.append(popRanked[i][0]) # 0->index\n",
        "    for i in range(0, len(popRanked) - eliteSize):\n",
        "        pick = 100*random.random()\n",
        "        for i in range(0, len(popRanked)):\n",
        "            if pick <= df.iat[i,3]:\n",
        "                selectionResults.append(popRanked[i][0])\n",
        "                break\n",
        "    return selectionResults"
      ],
      "execution_count": null,
      "outputs": []
    },
    {
      "cell_type": "code",
      "metadata": {
        "id": "wqVAEmGbvZI2"
      },
      "source": [
        "#Create mating pool\n",
        "\n",
        "def matingPool(population, selectionResults):\n",
        "    matingpool = []\n",
        "    for i in range(0, len(selectionResults)):\n",
        "        index = selectionResults[i]\n",
        "        matingpool.append(population[index])\n",
        "    return matingpool"
      ],
      "execution_count": null,
      "outputs": []
    },
    {
      "cell_type": "code",
      "metadata": {
        "id": "1hWrLhYqvdmh"
      },
      "source": [
        "#Create a crossover function for two parents to create one child\n",
        "def breed(parent1, parent2):\n",
        "    child = []\n",
        "    childP1 = []\n",
        "    childP2 = []\n",
        "    \n",
        "    geneA = int(random.random() * len(parent1))\n",
        "    geneB = int(random.random() * len(parent1))\n",
        "    \n",
        "    startGene = min(geneA, geneB)\n",
        "    endGene = max(geneA, geneB)\n",
        "\n",
        "    for i in range(startGene, endGene):\n",
        "        childP1.append(parent1[i])\n",
        "        \n",
        "\n",
        "    childP2 = [item for item in parent2 if item not in childP1]\n",
        "    print(startGene, endGene)\n",
        "\n",
        "    print(parent1)\n",
        "    print(parent2)\n",
        "\n",
        "    print(childP1)\n",
        "    print(childP2)\n",
        "    child = childP1 + childP2\n",
        "\n",
        "    print(child)\n",
        "    return child"
      ],
      "execution_count": null,
      "outputs": []
    },
    {
      "cell_type": "code",
      "metadata": {
        "id": "H6LdCsCUvhVo"
      },
      "source": [
        "#Create function to run crossover over full mating pool\n",
        "            # matingpool está ordenado del mejor al peor\n",
        "def breedPopulation(matingpool, eliteSize):\n",
        "    children = []\n",
        "    length = len(matingpool) - eliteSize\n",
        "    pool = random.sample(matingpool, len(matingpool)) # interesting function\n",
        "\n",
        "    for i in range(0,eliteSize):\n",
        "        children.append(matingpool[i])\n",
        "    \n",
        "    for i in range(0, length): # los de enmedio no se alcanzarán a seleccionar porque length < len(matingpool)\n",
        "    # y se empieza con los extremos\n",
        "        child = breed(pool[i], pool[len(matingpool)-i-1])\n",
        "        children.append(child)\n",
        "    return children"
      ],
      "execution_count": null,
      "outputs": []
    },
    {
      "cell_type": "code",
      "metadata": {
        "id": "asZoO5Gwvjni"
      },
      "source": [
        "#Create function to mutate a single route\n",
        "def mutate(individual, mutationRate):\n",
        "    for swapped in range(len(individual)):\n",
        "        if(random.random() < mutationRate):\n",
        "            swapWith = int(random.random() * len(individual))\n",
        "            \n",
        "            city1 = individual[swapped]\n",
        "            city2 = individual[swapWith]\n",
        "            \n",
        "            individual[swapped] = city2\n",
        "            individual[swapWith] = city1\n",
        "    return individual"
      ],
      "execution_count": null,
      "outputs": []
    },
    {
      "cell_type": "code",
      "metadata": {
        "id": "ZG4JlJQJvpCB"
      },
      "source": [
        "#Create function to run mutation over entire population\n",
        "\n",
        "def mutatePopulation(population, mutationRate):\n",
        "    mutatedPop = []\n",
        "    \n",
        "    for ind in range(0, len(population)):\n",
        "        mutatedInd = mutate(population[ind], mutationRate)\n",
        "        mutatedPop.append(mutatedInd)\n",
        "    return mutatedPop"
      ],
      "execution_count": null,
      "outputs": []
    },
    {
      "cell_type": "code",
      "metadata": {
        "id": "FuwftVHw81yz"
      },
      "source": [
        "#def mutatePopulation(population, mutationRate):\n",
        "#    mutatedPop = []\n",
        "\n",
        "#    for ind in population:\n",
        "#        mutatedInd = mutate(individual, mutationRate)\n",
        "#        mutatedPop.append(mutatedInd)\n",
        "#    return mutatePop\n",
        "\n",
        "\n",
        "#Put all steps together to create the next generation\n",
        "\n",
        "def nextGeneration(currentGen, eliteSize, mutationRate):\n",
        "    popRanked = rankRoutes(currentGen)\n",
        "    selectionResults = selection(popRanked, eliteSize)\n",
        "    matingpool = matingPool(currentGen, selectionResults)\n",
        "    children = breedPopulation(matingpool, eliteSize)\n",
        "    nextGeneration = mutatePopulation(children, mutationRate)\n",
        "    return nextGeneration"
      ],
      "execution_count": 25,
      "outputs": []
    },
    {
      "cell_type": "code",
      "metadata": {
        "id": "UgSH7Qn5PhKx"
      },
      "source": [
        "x = {(\"a\")}"
      ],
      "execution_count": 6,
      "outputs": []
    },
    {
      "cell_type": "code",
      "metadata": {
        "colab": {
          "base_uri": "https://localhost:8080/"
        },
        "id": "xuDX2Iu7cIUF",
        "outputId": "0e984e65-396c-4e21-a535-3adda4633501"
      },
      "source": [
        "df = pd.DataFrame([[0, 2, 3], [0, 4, 1], [10, 20, 30]],\n",
        "                  columns=['A', 'B', 'C'])\n",
        "# Access a single value for a row/column label pair.\n",
        "df.iat[1,2]"
      ],
      "execution_count": 7,
      "outputs": [
        {
          "output_type": "execute_result",
          "data": {
            "text/plain": [
              "1"
            ]
          },
          "metadata": {
            "tags": []
          },
          "execution_count": 7
        }
      ]
    },
    {
      "cell_type": "code",
      "metadata": {
        "colab": {
          "base_uri": "https://localhost:8080/"
        },
        "id": "hmAq5FqJg0du",
        "outputId": "a1c36629-4f50-46d6-c2e8-e6621113fcdd"
      },
      "source": [
        "child = []\n",
        "childP1 = []\n",
        "childP2 = []\n",
        "parent1 = [\"a\",\"b\",\"c\",\"d\"]\n",
        "parent2 = [\"b\",\"c\",\"d\",\"a\"]\n",
        "geneA = int(random.random() * len(parent1))\n",
        "geneB = int(random.random() * len(parent1))\n",
        "startGene = min(geneA, geneB)\n",
        "endGene = max(geneA, geneB)\n",
        "\n",
        "for i in range(startGene, endGene):\n",
        "    childP1.append(parent1[i])\n",
        "    \n",
        "\n",
        "childP2 = [item for item in parent2 if item not in childP1]\n",
        "print(startGene, endGene)\n",
        "\n",
        "print(parent1)\n",
        "print(parent2)\n",
        "\n",
        "print(childP1)\n",
        "print(childP2)\n",
        "child = childP1 + childP2\n",
        "\n",
        "print(child)"
      ],
      "execution_count": 8,
      "outputs": [
        {
          "output_type": "stream",
          "text": [
            "0 0\n",
            "['a', 'b', 'c', 'd']\n",
            "['b', 'c', 'd', 'a']\n",
            "[]\n",
            "['b', 'c', 'd', 'a']\n",
            "['b', 'c', 'd', 'a']\n"
          ],
          "name": "stdout"
        }
      ]
    },
    {
      "cell_type": "code",
      "metadata": {
        "colab": {
          "base_uri": "https://localhost:8080/"
        },
        "id": "h01BszaFkqCW",
        "outputId": "764e5e49-2a49-4a0b-e416-7cc786e3e674"
      },
      "source": [
        "x = [0,1]\n",
        "#random.sample(x, 6) it doesn't work \n",
        "list(np.random.randint(0,2,6)) # it works "
      ],
      "execution_count": 9,
      "outputs": [
        {
          "output_type": "execute_result",
          "data": {
            "text/plain": [
              "[0, 0, 0, 0, 0, 1]"
            ]
          },
          "metadata": {
            "tags": []
          },
          "execution_count": 9
        }
      ]
    },
    {
      "cell_type": "markdown",
      "metadata": {
        "id": "8GdneBpn9QP6"
      },
      "source": [
        "## The genetic algorithm\n",
        "With all these function defined, all that is left is to write the definition of the genetic algorithm."
      ]
    },
    {
      "cell_type": "code",
      "metadata": {
        "id": "qbYbvW739aE7"
      },
      "source": [
        "#Final step: create the genetic algorithm\n",
        "\n",
        "def geneticAlgorithm(population, popSize, eliteSize, mutationRate, generations):\n",
        "    pop = initialPopulation(popSize, population)\n",
        "    progress = [1 / rankRoutes(pop)[0][1]] # 1 entre fitness (distancia) del mejor actual\n",
        "    print(\"Initial distance: \" + str(progress[0]))\n",
        "    \n",
        "    for i in range(1, generations+1):\n",
        "        \n",
        "        pop = nextGeneration(pop, eliteSize, mutationRate)\n",
        "        progress.append(1 / rankRoutes(pop)[0][1]) # 1 entre fitness (distancia) del mejor actual\n",
        "        if i%50==0: # reportar cada 50 iteraciones i%n te da el númerador de la fracción; i//n te da el entero\n",
        "          print('Generation '+str(i),\"Distance: \",progress[i])\n",
        "        \n",
        "        \n",
        "    bestRouteIndex = rankRoutes(pop)[0][0] # dónde está el más chingón \n",
        "    bestRoute = pop[bestRouteIndex] # su fitness\n",
        "    \n",
        "    plt.plot(progress) # progress tiene todas las mejores distancias de cada iteración\n",
        "    plt.ylabel('Distance')\n",
        "    plt.xlabel('Generation')\n",
        "    plt.title('Best Fitness vs Generation')\n",
        "    plt.tight_layout()\n",
        "    plt.show()\n",
        "\n",
        "    \n",
        "    return bestRoute"
      ],
      "execution_count": 10,
      "outputs": []
    },
    {
      "cell_type": "code",
      "metadata": {
        "colab": {
          "base_uri": "https://localhost:8080/"
        },
        "id": "gZur0FJRs2cK",
        "outputId": "ef333916-4e27-44ac-95ef-cf00ea8a8cc2"
      },
      "source": [
        "5%2"
      ],
      "execution_count": 11,
      "outputs": [
        {
          "output_type": "execute_result",
          "data": {
            "text/plain": [
              "1"
            ]
          },
          "metadata": {
            "tags": []
          },
          "execution_count": 11
        }
      ]
    },
    {
      "cell_type": "markdown",
      "metadata": {
        "id": "Zsu9Ln579pk2"
      },
      "source": [
        "## Testing\n",
        "Know we create a list of cities and run the algorithm, this should return the best route found in the last generation."
      ]
    },
    {
      "cell_type": "code",
      "metadata": {
        "id": "Qh7Hvfqb97MV"
      },
      "source": [
        "#Running the genetic algorithm\n",
        "#Create list of cities\n",
        "\n",
        "cityList = []\n",
        "\n",
        "for i in range(0,25):\n",
        "    cityList.append(City(name = i, x=int(random.random() * 200), y=int(random.random() * 200)))\n",
        "\n",
        "best_route=geneticAlgorithm(population=cityList, popSize=100, eliteSize=20, mutationRate=0.01, generations=500)\n",
        "x=[]\n",
        "y=[]\n",
        "for i in best_route:\n",
        "  x.append(i.x)\n",
        "  y.append(i.y)\n",
        "x.append(best_route[0].x)\n",
        "y.append(best_route[0].y)\n",
        "plt.plot(x, y, '--o')\n",
        "plt.xlabel('X')\n",
        "plt.ylabel('Y')\n",
        "ax=plt.gca()\n",
        "plt.title('Final Route Layout')\n",
        "bbox_props = dict(boxstyle=\"circle,pad=0.3\", fc='C0', ec=\"black\", lw=0.5)\n",
        "for i in range(1,len(cityList)+1):\n",
        "  ax.text(cityList[i-1].x, cityList[i-1].y, str(i), ha=\"center\", va=\"center\",\n",
        "            size=8,\n",
        "            bbox=bbox_props)\n",
        "plt.tight_layout()\n",
        "plt.show()"
      ],
      "execution_count": 29,
      "outputs": []
    },
    {
      "cell_type": "code",
      "metadata": {
        "id": "my1HAxqfsTj5",
        "outputId": "418ee02c-d470-4e48-fa94-849822258df9",
        "colab": {
          "base_uri": "https://localhost:8080/"
        }
      },
      "source": [
        "cityList[1].y\n"
      ],
      "execution_count": 21,
      "outputs": [
        {
          "output_type": "execute_result",
          "data": {
            "text/plain": [
              "167"
            ]
          },
          "metadata": {
            "tags": []
          },
          "execution_count": 21
        }
      ]
    },
    {
      "cell_type": "code",
      "metadata": {
        "id": "rZdtXnatsT-A"
      },
      "source": [
        ""
      ],
      "execution_count": null,
      "outputs": []
    }
  ]
}