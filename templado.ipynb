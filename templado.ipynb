{
  "nbformat": 4,
  "nbformat_minor": 0,
  "metadata": {
    "colab": {
      "name": "Untitled7.ipynb",
      "provenance": [],
      "authorship_tag": "ABX9TyOYCj7HnZDYkZjnLOAMJO8g",
      "include_colab_link": true
    },
    "kernelspec": {
      "name": "ir",
      "display_name": "R"
    }
  },
  "cells": [
    {
      "cell_type": "markdown",
      "metadata": {
        "id": "view-in-github",
        "colab_type": "text"
      },
      "source": [
        "<a href=\"https://colab.research.google.com/github/JuanM-GG/Biologia-de-sistemas/blob/main/templado.ipynb\" target=\"_parent\"><img src=\"https://colab.research.google.com/assets/colab-badge.svg\" alt=\"Open In Colab\"/></a>"
      ]
    },
    {
      "cell_type": "markdown",
      "metadata": {
        "id": "x2gOVVOXRvF8"
      },
      "source": [
        "Título: \n",
        "\n",
        "Nombre: \n",
        "\n",
        "Fecha: "
      ]
    },
    {
      "cell_type": "markdown",
      "metadata": {
        "id": "ZoqD0xEASX2K"
      },
      "source": [
        "Cargar librerías"
      ]
    },
    {
      "cell_type": "code",
      "metadata": {
        "id": "67oSGb9CR1qI"
      },
      "source": [
        "install.packages(\"deSolve\")\n",
        "library(deSolve)"
      ],
      "execution_count": null,
      "outputs": []
    },
    {
      "cell_type": "markdown",
      "metadata": {
        "id": "ex6lPWxksk_Z"
      },
      "source": [
        "Declarar la función"
      ]
    }
  ]
}