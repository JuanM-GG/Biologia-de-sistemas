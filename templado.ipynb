{
  "nbformat": 4,
  "nbformat_minor": 0,
  "metadata": {
    "colab": {
      "name": "Untitled7.ipynb",
      "provenance": [],
      "authorship_tag": "ABX9TyMhgnhKeslSaI7KDEaw0nsD",
      "include_colab_link": true
    },
    "kernelspec": {
      "name": "ir",
      "display_name": "R"
    }
  },
  "cells": [
    {
      "cell_type": "markdown",
      "metadata": {
        "id": "view-in-github",
        "colab_type": "text"
      },
      "source": [
        "<a href=\"https://colab.research.google.com/github/JuanM-GG/Biologia-de-sistemas/blob/main/templado.ipynb\" target=\"_parent\"><img src=\"https://colab.research.google.com/assets/colab-badge.svg\" alt=\"Open In Colab\"/></a>"
      ]
    },
    {
      "cell_type": "markdown",
      "metadata": {
        "id": "x2gOVVOXRvF8"
      },
      "source": [
        "Título: \n",
        "\n",
        "Nombre:  \n",
        "\n",
        "Fecha: "
      ]
    },
    {
      "cell_type": "markdown",
      "metadata": {
        "id": "ZoqD0xEASX2K"
      },
      "source": [
        "Cargar Grind.R"
      ]
    },
    {
      "cell_type": "code",
      "metadata": {
        "colab": {
          "base_uri": "https://localhost:8080/"
        },
        "id": "67oSGb9CR1qI",
        "outputId": "7b96883d-77d1-41e8-a0c0-c4844ccce2b4"
      },
      "source": [
        "install.packages(\"deSolve\")\n",
        "install.packages(\"FME\")\n",
        "install.packages(\"rootSolve\")"
      ],
      "execution_count": null,
      "outputs": [
        {
          "output_type": "stream",
          "text": [
            "Installing package into ‘/usr/local/lib/R/site-library’\n",
            "(as ‘lib’ is unspecified)\n",
            "\n",
            "Installing package into ‘/usr/local/lib/R/site-library’\n",
            "(as ‘lib’ is unspecified)\n",
            "\n",
            "Installing package into ‘/usr/local/lib/R/site-library’\n",
            "(as ‘lib’ is unspecified)\n",
            "\n"
          ],
          "name": "stderr"
        }
      ]
    },
    {
      "cell_type": "code",
      "metadata": {
        "colab": {
          "base_uri": "https://localhost:8080/"
        },
        "id": "B0hrPVMhTHAw",
        "outputId": "67630943-1afe-43df-86f9-9017d1b2f820"
      },
      "source": [
        "source(\"Grind.R\")"
      ],
      "execution_count": null,
      "outputs": [
        {
          "output_type": "stream",
          "text": [
            "grind.R was sourced\n"
          ],
          "name": "stdout"
        }
      ]
    }
  ]
}