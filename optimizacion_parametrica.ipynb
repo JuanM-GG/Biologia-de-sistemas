{
  "nbformat": 4,
  "nbformat_minor": 0,
  "metadata": {
    "colab": {
      "name": "Untitled7.ipynb",
      "provenance": [],
      "authorship_tag": "ABX9TyO2Cf0YweeCcIaCDb/Y/AMN",
      "include_colab_link": true
    },
    "kernelspec": {
      "name": "ir",
      "display_name": "R"
    }
  },
  "cells": [
    {
      "cell_type": "markdown",
      "metadata": {
        "id": "view-in-github",
        "colab_type": "text"
      },
      "source": [
        "<a href=\"https://colab.research.google.com/github/JuanM-GG/Biologia-de-sistemas/blob/main/optimizacion_parametrica.ipynb\" target=\"_parent\"><img src=\"https://colab.research.google.com/assets/colab-badge.svg\" alt=\"Open In Colab\"/></a>"
      ]
    },
    {
      "cell_type": "markdown",
      "metadata": {
        "id": "x2gOVVOXRvF8"
      },
      "source": [
        "Título: Optimización paramétrica\n",
        "\n",
        "Nombre: Biología de sistemas \n",
        "\n",
        "Fecha: 7 de diciembre"
      ]
    },
    {
      "cell_type": "markdown",
      "metadata": {
        "id": "ZoqD0xEASX2K"
      },
      "source": [
        "Cargar Grind.R"
      ]
    },
    {
      "cell_type": "code",
      "metadata": {
        "colab": {
          "base_uri": "https://localhost:8080/"
        },
        "id": "67oSGb9CR1qI",
        "outputId": "7b96883d-77d1-41e8-a0c0-c4844ccce2b4"
      },
      "source": [
        "install.packages(\"deSolve\")\n",
        "install.packages(\"FME\")\n",
        "install.packages(\"rootSolve\")"
      ],
      "execution_count": 29,
      "outputs": [
        {
          "output_type": "stream",
          "text": [
            "Installing package into ‘/usr/local/lib/R/site-library’\n",
            "(as ‘lib’ is unspecified)\n",
            "\n",
            "Installing package into ‘/usr/local/lib/R/site-library’\n",
            "(as ‘lib’ is unspecified)\n",
            "\n",
            "Installing package into ‘/usr/local/lib/R/site-library’\n",
            "(as ‘lib’ is unspecified)\n",
            "\n"
          ],
          "name": "stderr"
        }
      ]
    },
    {
      "cell_type": "code",
      "metadata": {
        "colab": {
          "base_uri": "https://localhost:8080/"
        },
        "id": "B0hrPVMhTHAw",
        "outputId": "ebd59a91-4934-44ce-f834-9d03993b93c6"
      },
      "source": [
        "source(\"Grind.R\")"
      ],
      "execution_count": 4,
      "outputs": [
        {
          "output_type": "stream",
          "text": [
            "grind.R was sourced\n"
          ],
          "name": "stdout"
        }
      ]
    },
    {
      "cell_type": "markdown",
      "metadata": {
        "id": "VU4bhpimTLmR"
      },
      "source": [
        "Establecer modelo"
      ]
    },
    {
      "cell_type": "code",
      "metadata": {
        "id": "V09gOE9NScej"
      },
      "source": [
        "model <- function(time, state, parms) {\n",
        "  with(as.list(c(state,parms)),{\n",
        "\n",
        "    dx <- xpre*kprodEprod - x*kdegEdeg - x*y*kdimEdim + (ytot-y)*kdisEdis\n",
        "    dy <- - x*y*kdimEdim + (ytot-y)*kdisEdis\n",
        "    dxy <- - dy\n",
        "    return(list(c(dx, dy, dxy)))\n",
        "  })\n",
        "}"
      ],
      "execution_count": 17,
      "outputs": []
    },
    {
      "cell_type": "markdown",
      "metadata": {
        "id": "RRr-yRTqUPbN"
      },
      "source": [
        "Declarar primer estimación para los parámetros"
      ]
    },
    {
      "cell_type": "code",
      "metadata": {
        "id": "w6n9no-xUNBN"
      },
      "source": [
        "p <- c(xpre = 10, kprodEprod = 0.5, kdegEdeg = 0.5, kdimEdim = 10, kdisEdis = 1, ytot = 6)"
      ],
      "execution_count": 7,
      "outputs": []
    },
    {
      "cell_type": "markdown",
      "metadata": {
        "id": "RA91-2jvUppm"
      },
      "source": [
        "Establecer condiciones iniciales (las cuales, efectivamente, son parámetros)"
      ]
    },
    {
      "cell_type": "code",
      "metadata": {
        "id": "99SQg6txUm1Y"
      },
      "source": [
        "s <- c(x = 0, y = 5, xy = 1)"
      ],
      "execution_count": 8,
      "outputs": []
    },
    {
      "cell_type": "markdown",
      "metadata": {
        "id": "atcDPnGQU9bd"
      },
      "source": [
        "Introducir datos experimentales"
      ]
    },
    {
      "cell_type": "code",
      "metadata": {
        "id": "5O-KfR40U6su"
      },
      "source": [
        "t_exp <- c(0, 1, 3, 6)\n",
        "xy_exp <- c(0.5, 2.5, 3, 1.8)/0.5 "
      ],
      "execution_count": 9,
      "outputs": []
    },
    {
      "cell_type": "markdown",
      "metadata": {
        "id": "wMau54zaVKL8"
      },
      "source": [
        "Guardar en un dataframe (necesario para usar la función fit()). Los nombres de las variables en el dataframe deben ser igual a sus nombres en el modelo"
      ]
    },
    {
      "cell_type": "code",
      "metadata": {
        "id": "QmfmV0U_VISo"
      },
      "source": [
        "data <- data.frame(time = t_exp, xy = xy_exp)"
      ],
      "execution_count": 10,
      "outputs": []
    },
    {
      "cell_type": "markdown",
      "metadata": {
        "id": "pNuOZ1-dVsEf"
      },
      "source": [
        "Correr la optimización"
      ]
    },
    {
      "cell_type": "code",
      "metadata": {
        "colab": {
          "base_uri": "https://localhost:8080/",
          "height": 488
        },
        "id": "jkNNgWsJVnH1",
        "outputId": "dc35521c-2db8-44ae-f035-6e989e4fbd63"
      },
      "source": [
        "w <- c(\"kdimEdim\", \"ytot\") # w contiene los nombres de los parámetros libres\n",
        "f <- fit(legend = FALSE, free = w, tstep = 0.01)"
      ],
      "execution_count": 18,
      "outputs": [
        {
          "output_type": "stream",
          "text": [
            "SSR: 5.217441  Estimates:\n",
            "kdimEdim     ytot \n",
            "194.4604 250.7686 \n"
          ],
          "name": "stdout"
        },
        {
          "output_type": "display_data",
          "data": {
            "image/png": "[encoded data removed]",
            "text/plain": [
              "plot without title"
            ]
          },
          "metadata": {
            "tags": [],
            "image/png": {
              "width": 420,
              "height": 420
            }
          }
        }
      ]
    },
    {
      "cell_type": "markdown",
      "metadata": {
        "id": "TkDUlTxGXRs-"
      },
      "source": [
        "Revisar error estándar, estadístico t, valor p, etc. "
      ]
    },
    {
      "cell_type": "code",
      "metadata": {
        "colab": {
          "base_uri": "https://localhost:8080/",
          "height": 221
        },
        "id": "1q9-pG9GVob_",
        "outputId": "6843c5b0-772e-43fc-d42c-d2799455a4ff"
      },
      "source": [
        "summary(f)"
      ],
      "execution_count": 21,
      "outputs": [
        {
          "output_type": "display_data",
          "data": {
            "text/plain": [
              "\n",
              "Parameters:\n",
              "         Estimate Std. Error t value Pr(>|t|)\n",
              "kdimEdim    194.5      222.8   0.873    0.475\n",
              "ytot        250.8      290.3   0.864    0.479\n",
              "\n",
              "Residual standard error: 1.615 on 2 degrees of freedom\n",
              "\n",
              "Parameter correlation:\n",
              "         kdimEdim    ytot\n",
              "kdimEdim   1.0000 -0.9985\n",
              "ytot      -0.9985  1.0000"
            ]
          },
          "metadata": {
            "tags": []
          }
        }
      ]
    },
    {
      "cell_type": "markdown",
      "metadata": {
        "id": "uQCv-y6aXw4U"
      },
      "source": [
        "Es posible revisar los resultados del ejemplo con f$par"
      ]
    },
    {
      "cell_type": "code",
      "metadata": {
        "colab": {
          "base_uri": "https://localhost:8080/",
          "height": 51
        },
        "id": "YAtR1jHsXM13",
        "outputId": "e18f7728-3629-4051-9d5b-59b3db4e2c8d"
      },
      "source": [
        "f$par\n",
        "f$ssr"
      ],
      "execution_count": 22,
      "outputs": [
        {
          "output_type": "display_data",
          "data": {
            "text/plain": [
              "kdimEdim     ytot \n",
              "194.4604 250.7686 "
            ],
            "text/latex": "\\begin{description*}\n\\item[kdimEdim] 194.460371464242\n\\item[ytot] 250.768606791779\n\\end{description*}\n",
            "text/markdown": "kdimEdim\n:   194.460371464242ytot\n:   250.768606791779\n\n",
            "text/html": [
              "<style>\n",
              ".dl-inline {width: auto; margin:0; padding: 0}\n",
              ".dl-inline>dt, .dl-inline>dd {float: none; width: auto; display: inline-block}\n",
              ".dl-inline>dt::after {content: \":\\0020\"; padding-right: .5ex}\n",
              ".dl-inline>dt:not(:first-of-type) {padding-left: .5ex}\n",
              "</style><dl class=dl-inline><dt>kdimEdim</dt><dd>194.460371464242</dd><dt>ytot</dt><dd>250.768606791779</dd></dl>\n"
            ]
          },
          "metadata": {
            "tags": []
          }
        },
        {
          "output_type": "display_data",
          "data": {
            "text/plain": [
              "[1] 5.217441"
            ],
            "text/latex": "5.21744072589848",
            "text/markdown": "5.21744072589848",
            "text/html": [
              "5.21744072589848"
            ]
          },
          "metadata": {
            "tags": []
          }
        }
      ]
    }
  ]
}