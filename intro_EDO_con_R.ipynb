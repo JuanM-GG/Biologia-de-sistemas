{
  "nbformat": 4,
  "nbformat_minor": 0,
  "metadata": {
    "colab": {
      "name": "Untitled7.ipynb",
      "provenance": [],
      "authorship_tag": "ABX9TyPyAsi2SCUomjzceRKuxWab",
      "include_colab_link": true
    },
    "kernelspec": {
      "name": "ir",
      "display_name": "R"
    }
  },
  "cells": [
    {
      "cell_type": "markdown",
      "metadata": {
        "id": "view-in-github",
        "colab_type": "text"
      },
      "source": [
        "<a href=\"https://colab.research.google.com/github/JuanM-GG/Biologia-de-sistemas/blob/main/intro_EDO_con_R.ipynb\" target=\"_parent\"><img src=\"https://colab.research.google.com/assets/colab-badge.svg\" alt=\"Open In Colab\"/></a>"
      ]
    },
    {
      "cell_type": "markdown",
      "metadata": {
        "id": "x2gOVVOXRvF8"
      },
      "source": [
        "Título: Introducción a EDO con R \n",
        "\n",
        "Nombre: Biología de sistemas\n",
        "\n",
        "Fecha: 9 de diciembre del 2020"
      ]
    },
    {
      "cell_type": "markdown",
      "metadata": {
        "id": "ZoqD0xEASX2K"
      },
      "source": [
        "Cargar Grind.R"
      ]
    },
    {
      "cell_type": "code",
      "metadata": {
        "colab": {
          "base_uri": "https://localhost:8080/"
        },
        "id": "67oSGb9CR1qI",
        "outputId": "b80da5d3-90a5-48cc-cb2b-4652d7e42beb"
      },
      "source": [
        "install.packages(\"deSolve\")\n",
        "install.packages(\"FME\")\n",
        "install.packages(\"rootSolve\")"
      ],
      "execution_count": 1,
      "outputs": [
        {
          "output_type": "stream",
          "text": [
            "Installing package into ‘/usr/local/lib/R/site-library’\n",
            "(as ‘lib’ is unspecified)\n",
            "\n",
            "Installing package into ‘/usr/local/lib/R/site-library’\n",
            "(as ‘lib’ is unspecified)\n",
            "\n",
            "also installing the dependencies ‘rootSolve’, ‘coda’, ‘minpack.lm’, ‘minqa’\n",
            "\n",
            "\n",
            "Installing package into ‘/usr/local/lib/R/site-library’\n",
            "(as ‘lib’ is unspecified)\n",
            "\n"
          ],
          "name": "stderr"
        }
      ]
    },
    {
      "cell_type": "code",
      "metadata": {
        "colab": {
          "base_uri": "https://localhost:8080/"
        },
        "id": "B0hrPVMhTHAw",
        "outputId": "eb1d6e8e-b970-477d-d5bf-8c8a04b2a86b"
      },
      "source": [
        "source(\"Grind.R\")"
      ],
      "execution_count": 3,
      "outputs": [
        {
          "output_type": "stream",
          "text": [
            "Loading required package: coda\n",
            "\n"
          ],
          "name": "stderr"
        },
        {
          "output_type": "stream",
          "text": [
            "grind.R was sourced\n"
          ],
          "name": "stdout"
        }
      ]
    },
    {
      "cell_type": "markdown",
      "metadata": {
        "id": "BYiTRiTxYois"
      },
      "source": [
        "Establecer modelo"
      ]
    },
    {
      "cell_type": "code",
      "metadata": {
        "id": "5DYT_k7IYekK"
      },
      "source": [
        "model <- function(time, state, parms){\r\n",
        "  with(as.list(c(state, parms)), {\r\n",
        "\r\n",
        "    dA <- -k1*A\r\n",
        "\r\n",
        "    return(list(c(dA)))\r\n",
        "  })\r\n",
        "}"
      ],
      "execution_count": 4,
      "outputs": []
    },
    {
      "cell_type": "markdown",
      "metadata": {
        "id": "o4sC88vOZGIK"
      },
      "source": [
        "darle valor a los parámetros"
      ]
    },
    {
      "cell_type": "code",
      "metadata": {
        "id": "69kT-PlBZFfL"
      },
      "source": [
        "p <- c(k1 = 1)"
      ],
      "execution_count": 9,
      "outputs": []
    },
    {
      "cell_type": "markdown",
      "metadata": {
        "id": "qEtTOv1nZL_b"
      },
      "source": [
        "Establecer condiciones iniciales"
      ]
    },
    {
      "cell_type": "code",
      "metadata": {
        "id": "KmdvjySBZLPW"
      },
      "source": [
        "s <- c(A = 10)"
      ],
      "execution_count": 6,
      "outputs": []
    },
    {
      "cell_type": "markdown",
      "metadata": {
        "id": "J51WYggoZVVD"
      },
      "source": [
        "Intervalo de tiempo "
      ]
    },
    {
      "cell_type": "code",
      "metadata": {
        "id": "tpe5AQHEZUaZ"
      },
      "source": [
        "times <- seq(from = 0, to = 5, by = 0.2)"
      ],
      "execution_count": 7,
      "outputs": []
    },
    {
      "cell_type": "markdown",
      "metadata": {
        "id": "NL4V2tAZZeVk"
      },
      "source": [
        "Resolver EDO"
      ]
    },
    {
      "cell_type": "code",
      "metadata": {
        "id": "sB0ocgXUZdXK"
      },
      "source": [
        "At <- ode(y = s, times = times, func = model, parms = p)"
      ],
      "execution_count": 10,
      "outputs": []
    },
    {
      "cell_type": "markdown",
      "metadata": {
        "id": "HaMOIsjuZ2z3"
      },
      "source": [
        "Mostrar resultados"
      ]
    },
    {
      "cell_type": "code",
      "metadata": {
        "id": "FEa2Av9rZsod",
        "outputId": "4735cffc-16ce-4042-fe77-9c8f9d65cc9b",
        "colab": {
          "base_uri": "https://localhost:8080/",
          "height": 437
        }
      },
      "source": [
        "plot(At, type = \"l\", col = \"red\")"
      ],
      "execution_count": 12,
      "outputs": [
        {
          "output_type": "display_data",
          "data": {
            "image/png": "[encoded data removed]",
            "text/plain": [
              "Plot with title “A”"
            ]
          },
          "metadata": {
            "tags": [],
            "image/png": {
              "width": 420,
              "height": 420
            }
          }
        }
      ]
    },
    {
      "cell_type": "code",
      "metadata": {
        "id": "1-2ymGVoZ-QM"
      },
      "source": [
        ""
      ],
      "execution_count": null,
      "outputs": []
    }
  ]
}