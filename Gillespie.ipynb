{
  "nbformat": 4,
  "nbformat_minor": 0,
  "metadata": {
    "colab": {
      "name": "Untitled81.ipynb",
      "provenance": [],
      "authorship_tag": "ABX9TyPcr6/URISoXtM2BPQWC1cf",
      "include_colab_link": true
    },
    "kernelspec": {
      "name": "python3",
      "display_name": "Python 3"
    },
    "language_info": {
      "name": "python"
    }
  },
  "cells": [
    {
      "cell_type": "markdown",
      "metadata": {
        "id": "view-in-github",
        "colab_type": "text"
      },
      "source": [
        "<a href=\"https://colab.research.google.com/github/JuanM-GG/Biologia-de-sistemas/blob/main/Gillespie.ipynb\" target=\"_parent\"><img src=\"https://colab.research.google.com/assets/colab-badge.svg\" alt=\"Open In Colab\"/></a>"
      ]
    },
    {
      "cell_type": "code",
      "metadata": {
        "id": "Kks7TNH3ji4x"
      },
      "source": [
        "# importar librerías \n",
        "import matplotlib.pyplot as plt\n",
        "import numpy as np\n",
        "import random  "
      ],
      "execution_count": null,
      "outputs": []
    },
    {
      "cell_type": "code",
      "metadata": {
        "id": "zFSw_tozjtXC"
      },
      "source": [
        "# condiciones iniciales \n",
        "x = [0]\n",
        "t = [0]"
      ],
      "execution_count": null,
      "outputs": []
    },
    {
      "cell_type": "code",
      "metadata": {
        "id": "ixBMlM0zj2ZU"
      },
      "source": [
        "# parámetros \n",
        "tend = 1000\n",
        "k = 2\n",
        "gamma = 0.1"
      ],
      "execution_count": null,
      "outputs": []
    },
    {
      "cell_type": "code",
      "metadata": {
        "id": "oQcCrCnHj68Q"
      },
      "source": [
        "while t[-1] < tend:\n",
        "\n",
        "    current_x = x[-1]\n",
        "\n",
        "    rates = [k, gamma*current_x]\n",
        "    rate_sum = sum(rates)\n",
        "\n",
        "    tau = np.random.exponential(scale = 1/rate_sum)\n",
        "    t.append(t[-1] + tau)\n",
        "\n",
        "    rand = random.uniform(0,1)\n",
        "\n",
        "    # production event \n",
        "    if rand*rate_sum > 0 and rand*rate_sum < rates[0]:\n",
        "        x.append(x[-1]+1) \n",
        "        # decay event \n",
        "    if rand*rate_sum > rates[0] and rand*rate_sum < rates[0]+ rates[1]:\n",
        "        x.append(x[-1]-1) "
      ],
      "execution_count": null,
      "outputs": []
    },
    {
      "cell_type": "code",
      "metadata": {
        "colab": {
          "base_uri": "https://localhost:8080/",
          "height": 296
        },
        "id": "6r2IGY4HkoHE",
        "outputId": "52af73db-5fb5-440d-a30f-9be83a3b0003"
      },
      "source": [
        "plt.plot(t,x)\n",
        "plt.xlabel(\"time\")\n",
        "plt.ylabel(\"mRNA quantity\")"
      ],
      "execution_count": null,
      "outputs": [
        {
          "output_type": "execute_result",
          "data": {
            "text/plain": [
              "Text(0, 0.5, 'mRNA quantity')"
            ]
          },
          "metadata": {
            "tags": []
          },
          "execution_count": 5
        },
        {
          "output_type": "display_data",
          "data": {
            "image/png": "[encoded data removed]",
            "text/plain": [
              "<Figure size 432x288 with 1 Axes>"
            ]
          },
          "metadata": {
            "tags": [],
            "needs_background": "light"
          }
        }
      ]
    },
    {
      "cell_type": "code",
      "metadata": {
        "colab": {
          "base_uri": "https://localhost:8080/"
        },
        "id": "WeCxo2jAk5Jl",
        "outputId": "dc59d721-8f7b-4605-cc4a-7c613efcaaad"
      },
      "source": [
        "np.random.exponential(scale = 1/2)"
      ],
      "execution_count": null,
      "outputs": [
        {
          "output_type": "execute_result",
          "data": {
            "text/plain": [
              "0.09097305581399302"
            ]
          },
          "metadata": {
            "tags": []
          },
          "execution_count": 6
        }
      ]
    },
    {
      "cell_type": "code",
      "metadata": {
        "id": "mIIV4ZVKlyY2"
      },
      "source": [
        "def exponetial_dist(x, beta):\n",
        "\n",
        "    f = np.exp(-x/beta)/beta\n",
        "\n",
        "    return f"
      ],
      "execution_count": null,
      "outputs": []
    },
    {
      "cell_type": "code",
      "metadata": {
        "id": "Er9jvA85l-7U"
      },
      "source": [
        "x = np.linspace(0,10,100)\n",
        "beta = 2"
      ],
      "execution_count": null,
      "outputs": []
    },
    {
      "cell_type": "code",
      "metadata": {
        "colab": {
          "base_uri": "https://localhost:8080/",
          "height": 296
        },
        "id": "7ceBgPp7mKvd",
        "outputId": "2cb439d6-be5d-45ee-bee3-419168767914"
      },
      "source": [
        "plt.plot(x, exponetial_dist(x, beta))\n",
        "plt.xlabel(\"variable aleatoria\")\n",
        "plt.ylabel(\"probabilidad\")"
      ],
      "execution_count": null,
      "outputs": [
        {
          "output_type": "execute_result",
          "data": {
            "text/plain": [
              "Text(0, 0.5, 'probabilidad')"
            ]
          },
          "metadata": {
            "tags": []
          },
          "execution_count": 9
        },
        {
          "output_type": "display_data",
          "data": {
            "image/png": "[encoded data removed]",
            "text/plain": [
              "<Figure size 432x288 with 1 Axes>"
            ]
          },
          "metadata": {
            "tags": [],
            "needs_background": "light"
          }
        }
      ]
    },
    {
      "cell_type": "code",
      "metadata": {
        "colab": {
          "base_uri": "https://localhost:8080/"
        },
        "id": "0LqKQE4rmN2i",
        "outputId": "fdfaea02-6240-455a-82fc-6c909e62f736"
      },
      "source": [
        "print(\"área bajo la curva:\")\n",
        "sum(np.ones_like(x)*0.1*exponetial_dist(x,beta))"
      ],
      "execution_count": null,
      "outputs": [
        {
          "output_type": "stream",
          "text": [
            "área bajo la curva:\n"
          ],
          "name": "stdout"
        },
        {
          "output_type": "execute_result",
          "data": {
            "text/plain": [
              "1.008706892052731"
            ]
          },
          "metadata": {
            "tags": []
          },
          "execution_count": 10
        }
      ]
    }
  ]
}