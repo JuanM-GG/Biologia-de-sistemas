{
  "nbformat": 4,
  "nbformat_minor": 0,
  "metadata": {
    "colab": {
      "name": "Untitled32.ipynb",
      "provenance": [],
      "collapsed_sections": [],
      "authorship_tag": "ABX9TyMXJDwSG07Ad9eroS2XpDed",
      "include_colab_link": true
    },
    "kernelspec": {
      "name": "python3",
      "display_name": "Python 3"
    }
  },
  "cells": [
    {
      "cell_type": "markdown",
      "metadata": {
        "id": "view-in-github",
        "colab_type": "text"
      },
      "source": [
        "<a href=\"https://colab.research.google.com/github/JuanM-GG/Biologia-de-sistemas/blob/main/height_with_two_tanks.ipynb\" target=\"_parent\"><img src=\"https://colab.research.google.com/assets/colab-badge.svg\" alt=\"Open In Colab\"/></a>"
      ]
    },
    {
      "cell_type": "markdown",
      "metadata": {
        "id": "l2Xk_W7GWGm-"
      },
      "source": [
        "Title: Height with two tanks \r\n",
        "\r\n",
        "Name: JM\r\n",
        "\r\n",
        "Date: December 2020"
      ]
    },
    {
      "cell_type": "markdown",
      "metadata": {
        "id": "gnW54W5hWQpj"
      },
      "source": [
        "Consider two tanks in series where the flow out of the first tank enters the second tank. Our objetive is to develop a model to describe how the height of liquid in tank 2 changes with time, given the input flowrate $F_{0}(t)$. Assume that the flow out of each tank is a linear function of the height of liquid in the tank ($F_1 = \\beta_1 h_1$ and $F_2 = \\beta_2 h_2$) and each tank has a constant cross-sectional area. Also assume the density is constant in both tanks. \r\n",
        "\r\n",
        "![Imagen2.png](data:image/png;base64,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)"
      ]
    },
    {
      "cell_type": "markdown",
      "metadata": {
        "id": "338zf3kttiOe"
      },
      "source": [
        "### Material Balance in Tank 1\r\n",
        "\r\n",
        "$$\\frac{d(V_1 \\rho)}{dt} = F_0 \\rho - \\beta_1 h_1 \\rho$$\r\n",
        "\r\n",
        "$$\\frac{d(A_1 h_1 \\rho)}{dt} = F_0 \\rho - \\beta_1 h_1 \\rho$$\r\n",
        "\r\n",
        "$$\\frac{dh_1 }{dt} = \\frac{F_0}{A_1}  - \\frac{\\beta_1 h_1}{A_1}$$"
      ]
    },
    {
      "cell_type": "markdown",
      "metadata": {
        "id": "Q0U76X7UuFVz"
      },
      "source": [
        "### Material Balance in Tank 2\r\n",
        "\r\n",
        "$$\\frac{d(A_2 h_2 \\rho)}{dt} = \\beta_1  h_1 \\rho - \\beta_2 h_2 \\rho$$\r\n",
        "\r\n",
        "$$\\frac{dh_2}{dt} = \\frac{\\beta_1  h_1}{A_2} -  \\frac{\\beta_2 h_2}{A_2}$$"
      ]
    },
    {
      "cell_type": "code",
      "metadata": {
        "id": "PTmPDXTGWPnH"
      },
      "source": [
        "# import libraries\r\n",
        "import numpy as np\r\n",
        "import matplotlib.pyplot as plt\r\n",
        "from scipy.integrate import odeint"
      ],
      "execution_count": 1,
      "outputs": []
    },
    {
      "cell_type": "code",
      "metadata": {
        "id": "6s0nAZgHvBXm"
      },
      "source": [
        "# establish model\r\n",
        "def model(s,t,u):\r\n",
        "\r\n",
        "  # state variables\r\n",
        "  h1 = s[0]\r\n",
        "  h2 = s[1]\r\n",
        "\r\n",
        "  # inputs\r\n",
        "  F0 = u\r\n",
        "\r\n",
        "  # parameters\r\n",
        "  A1 = p[0]\r\n",
        "  A2 = p[1]\r\n",
        "  beta1 = p[2]\r\n",
        "  beta2 = p[3]\r\n",
        "\r\n",
        "  # material balance tank 1 \r\n",
        "  #dh1dt = F0/A1 - beta1*h1/A1\r\n",
        "  # material balance tank 2\r\n",
        "  #dh2dt = beta1*h1/A1 - beta2*h2/A2\r\n",
        "\r\n",
        "  # material balance tank 1 \r\n",
        "  dh1dt = F0/A1 - beta1*h1/A1\r\n",
        "  # material balance tank 2\r\n",
        "  dh2dt = beta1*h1/A1 - beta2*h2/A2\r\n",
        "\r\n",
        "  return [dh1dt, dh2dt]"
      ],
      "execution_count": 118,
      "outputs": []
    },
    {
      "cell_type": "code",
      "metadata": {
        "colab": {
          "base_uri": "https://localhost:8080/"
        },
        "id": "-xt_Pdgb0FtP",
        "outputId": "7728b5f7-a1d2-4db5-92dd-b52c141afb96"
      },
      "source": [
        "model([0.5,0],np.linspace(0,1),0.5)"
      ],
      "execution_count": 119,
      "outputs": [
        {
          "output_type": "execute_result",
          "data": {
            "text/plain": [
              "[0.2475, 0.0025]"
            ]
          },
          "metadata": {
            "tags": []
          },
          "execution_count": 119
        }
      ]
    },
    {
      "cell_type": "code",
      "metadata": {
        "id": "DjVeRdWbvwcH"
      },
      "source": [
        "# establish parameters\r\n",
        "A1 = 2\r\n",
        "A2 = 2\r\n",
        "beta1 = 0.01\r\n",
        "beta2 = 0.005\r\n",
        "p = [A1,A2,beta1,beta2]"
      ],
      "execution_count": 120,
      "outputs": []
    },
    {
      "cell_type": "code",
      "metadata": {
        "id": "E9bYS7sIv_9N"
      },
      "source": [
        "# initial conditons \r\n",
        "h10 = 2\r\n",
        "h20 = 0\r\n",
        "s = [h10, h20] "
      ],
      "execution_count": 121,
      "outputs": []
    },
    {
      "cell_type": "code",
      "metadata": {
        "id": "Y62jSooWwM1p"
      },
      "source": [
        "# integration time\r\n",
        "t = np.linspace(0,100,1000)"
      ],
      "execution_count": 122,
      "outputs": []
    },
    {
      "cell_type": "code",
      "metadata": {
        "id": "s2B85mhTwTez"
      },
      "source": [
        "# input\r\n",
        "F0 = 0\r\n",
        "u = np.ones(len(t))*F0\r\n",
        "u[500:750] = 2"
      ],
      "execution_count": 123,
      "outputs": []
    },
    {
      "cell_type": "code",
      "metadata": {
        "id": "lEcUiwUJwhKk"
      },
      "source": [
        "# vectors to save state\r\n",
        "h1 = np.ones(len(t))*h10\r\n",
        "h2 = np.ones(len(t))*h20"
      ],
      "execution_count": 124,
      "outputs": []
    },
    {
      "cell_type": "code",
      "metadata": {
        "id": "TQ8frSEMwu5_"
      },
      "source": [
        "for i in range(len(t)-1):\r\n",
        "  # update time span\r\n",
        "  ts = [t[i],t[i+1]]\r\n",
        "  # solve ODEs\r\n",
        "  out = odeint(model,s,t,args=(u[i+1],))\r\n",
        "  # save state\r\n",
        "  h1[i+1] = out[-1][0] \r\n",
        "  h2[i+1] = out[-1][1]\r\n",
        "  # update initial conditions \r\n",
        "  s = out[-1]"
      ],
      "execution_count": 125,
      "outputs": []
    },
    {
      "cell_type": "code",
      "metadata": {
        "colab": {
          "base_uri": "https://localhost:8080/",
          "height": 296
        },
        "id": "wCgYy9_HxNpO",
        "outputId": "676300dd-2e69-4377-c044-5b6eb5d60041"
      },
      "source": [
        "plt.plot(t,h1,\"r-\",linewidth = 2,label = \"h_1(t)\")\r\n",
        "plt.plot(t,h2,\"b--\",linewidth = 2,label=\"h_2(t)\")\r\n",
        "plt.xlabel(\"Time (min)\")\r\n",
        "plt.ylabel(\"Height (m)\")\r\n",
        "plt.legend(loc = \"best\")"
      ],
      "execution_count": 126,
      "outputs": [
        {
          "output_type": "execute_result",
          "data": {
            "text/plain": [
              "<matplotlib.legend.Legend at 0x7f0e2775ccc0>"
            ]
          },
          "metadata": {
            "tags": []
          },
          "execution_count": 126
        },
        {
          "output_type": "display_data",
          "data": {
            "image/png": "[encoded data removed]",
            "text/plain": [
              "<Figure size 432x288 with 1 Axes>"
            ]
          },
          "metadata": {
            "tags": [],
            "needs_background": "light"
          }
        }
      ]
    },
    {
      "cell_type": "code",
      "metadata": {
        "id": "2FlfoRZjxWpn"
      },
      "source": [
        ""
      ],
      "execution_count": null,
      "outputs": []
    }
  ]
}