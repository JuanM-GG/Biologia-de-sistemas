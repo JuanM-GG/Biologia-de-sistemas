{
  "nbformat": 4,
  "nbformat_minor": 0,
  "metadata": {
    "colab": {
      "name": "Untitled7.ipynb",
      "provenance": [],
      "authorship_tag": "ABX9TyOdS/KAv+yD87NINYqZXusT",
      "include_colab_link": true
    },
    "kernelspec": {
      "name": "ir",
      "display_name": "R"
    }
  },
  "cells": [
    {
      "cell_type": "markdown",
      "metadata": {
        "id": "view-in-github",
        "colab_type": "text"
      },
      "source": [
        "<a href=\"https://colab.research.google.com/github/JuanM-GG/Biologia-de-sistemas/blob/main/optimizacion_parametrica_perfect_adaptation.ipynb\" target=\"_parent\"><img src=\"https://colab.research.google.com/assets/colab-badge.svg\" alt=\"Open In Colab\"/></a>"
      ]
    },
    {
      "cell_type": "markdown",
      "metadata": {
        "id": "x2gOVVOXRvF8"
      },
      "source": [
        "Título: Optimización paramétrica. Adaptación perfecta\n",
        "\n",
        "Nombre: Biología de sistemas\n",
        "\n",
        "Fecha: 9 de diciembre del 2020"
      ]
    },
    {
      "cell_type": "markdown",
      "metadata": {
        "id": "ZoqD0xEASX2K"
      },
      "source": [
        "Cargar librerías"
      ]
    },
    {
      "cell_type": "code",
      "metadata": {
        "id": "KN3JUocI0wrn"
      },
      "source": [
        "install.packages(\"deSolve\")\r\n",
        "install.packages(\"FME\")"
      ],
      "execution_count": null,
      "outputs": []
    },
    {
      "cell_type": "code",
      "metadata": {
        "id": "67oSGb9CR1qI",
        "outputId": "ba248ea6-2cf0-4e50-e718-36929b8fe358",
        "colab": {
          "base_uri": "https://localhost:8080/"
        }
      },
      "source": [
        "source(\"Grind.R\")"
      ],
      "execution_count": 28,
      "outputs": [
        {
          "output_type": "stream",
          "text": [
            "Loading required package: coda\n",
            "\n"
          ],
          "name": "stderr"
        },
        {
          "output_type": "stream",
          "text": [
            "grind.R was sourced\n"
          ],
          "name": "stdout"
        }
      ]
    },
    {
      "cell_type": "markdown",
      "metadata": {
        "id": "Ffo_lhPb1OZr"
      },
      "source": [
        "Definir función (esto es, el modelo)"
      ]
    },
    {
      "cell_type": "code",
      "metadata": {
        "id": "f8DxGrGR1WkB"
      },
      "source": [
        "model <- function(time, state, parms) {\r\n",
        "  with(as.list(c(state, parms)), {\r\n",
        "\r\n",
        "    dR <- k1*S - k2*R*x\r\n",
        "    dx <- k3*S - k4*x \r\n",
        "\r\n",
        "    return(list(c(dR, dx)))\r\n",
        "  })\r\n",
        "}"
      ],
      "execution_count": 30,
      "outputs": []
    },
    {
      "cell_type": "markdown",
      "metadata": {
        "id": "jIxY47OB1uk2"
      },
      "source": [
        "Declarar primer solución para el valor de los parámetros "
      ]
    },
    {
      "cell_type": "code",
      "metadata": {
        "id": "qxOq_l0M1sMR"
      },
      "source": [
        "p <- c(k1 = 1, k2 = 13, k3 = 1, k4 = 0.3, S = 2.5)"
      ],
      "execution_count": 31,
      "outputs": []
    },
    {
      "cell_type": "markdown",
      "metadata": {
        "id": "vP0fYJV62CO5"
      },
      "source": [
        "Establecer condiciones iniciales (las cuales, efectivamente, son parámetros)"
      ]
    },
    {
      "cell_type": "code",
      "metadata": {
        "id": "AGEIA7sS2BV_"
      },
      "source": [
        "s <- c(R = 0, x = 0)"
      ],
      "execution_count": 33,
      "outputs": []
    },
    {
      "cell_type": "markdown",
      "metadata": {
        "id": "q3y85cBr2P1A"
      },
      "source": [
        "Cargar datos"
      ]
    },
    {
      "cell_type": "code",
      "metadata": {
        "id": "x0_u5YZw2L5W"
      },
      "source": [
        "data <- data.frame(time = c(0, 0.5, 1, 2, 4, 6), R = c(0.0126,1.6059,0.8196,0.7323,0.5339,0.5613))"
      ],
      "execution_count": 34,
      "outputs": []
    },
    {
      "cell_type": "markdown",
      "metadata": {
        "id": "G3XNNGA12qc2"
      },
      "source": [
        "El nombre de las columnas en el *data.frame* con los datos debe ser igual al nombre de las variables en el modelo"
      ]
    },
    {
      "cell_type": "markdown",
      "metadata": {
        "id": "8Z-cX05C23Fc"
      },
      "source": [
        "Correr la optimización"
      ]
    },
    {
      "cell_type": "code",
      "metadata": {
        "id": "QDMXlWbN2l_M",
        "outputId": "2ab37826-ae89-4aa3-8c68-4fd3ed7869ac",
        "colab": {
          "base_uri": "https://localhost:8080/",
          "height": 488
        }
      },
      "source": [
        "w <- c(\"k1\", \"k2\", \"k3\", \"k4\") # nombres de los parámetros a optimizar\r\n",
        "f <- fit(legend = FALSE, free = w, tstep = 0.0001, method = \"BFGS\")"
      ],
      "execution_count": 35,
      "outputs": [
        {
          "output_type": "stream",
          "text": [
            "SSR: 0.0136076  Estimates:\n",
            "       k1        k2        k3        k4 \n",
            " 6.032264 12.995404  0.912848  1.113765 \n"
          ],
          "name": "stdout"
        },
        {
          "output_type": "display_data",
          "data": {
            "image/png": "[encoded data removed]",
            "text/plain": [
              "plot without title"
            ]
          },
          "metadata": {
            "tags": [],
            "image/png": {
              "width": 420,
              "height": 420
            }
          }
        }
      ]
    },
    {
      "cell_type": "markdown",
      "metadata": {
        "id": "_A6Lc2UG3bhF"
      },
      "source": [
        "Podemos revisar los rangos de confianza, valor p, etc. "
      ]
    },
    {
      "cell_type": "code",
      "metadata": {
        "id": "DPqGHNyM3ReT",
        "outputId": "8f34af2b-3730-45ab-803e-467d770a5e94",
        "colab": {
          "base_uri": "https://localhost:8080/",
          "height": 425
        }
      },
      "source": [
        "summary(f)"
      ],
      "execution_count": 43,
      "outputs": [
        {
          "output_type": "stream",
          "text": [
            "Warning message in sqrt(diag(covar) * resvar):\n",
            "“NaNs produced”\n",
            "Warning message in sqrt(1/diag(V)):\n",
            "“NaNs produced”\n",
            "Warning message in cov2cor(x$cov.unscaled):\n",
            "“diag(.) had 0 or NA entries; non-finite result is doubtful”\n"
          ],
          "name": "stderr"
        },
        {
          "output_type": "display_data",
          "data": {
            "text/plain": [
              "\n",
              "Parameters:\n",
              "   Estimate Std. Error t value Pr(>|t|)  \n",
              "k1   6.0323     5.0823   1.187   0.3571  \n",
              "k2  12.9954         NA      NA       NA  \n",
              "k3   0.9128         NA      NA       NA  \n",
              "k4   1.1138     0.1951   5.710   0.0293 *\n",
              "---\n",
              "Signif. codes:  0 ‘***’ 0.001 ‘**’ 0.01 ‘*’ 0.05 ‘.’ 0.1 ‘ ’ 1\n",
              "\n",
              "Residual standard error: 0.08249 on 2 degrees of freedom\n",
              "\n",
              "Parameter correlation:\n",
              "        k1  k2  k3      k4\n",
              "k1  1.0000 NaN NaN -0.6248\n",
              "k2     NaN   1 NaN     NaN\n",
              "k3     NaN NaN   1     NaN\n",
              "k4 -0.6248 NaN NaN  1.0000"
            ]
          },
          "metadata": {
            "tags": []
          }
        }
      ]
    },
    {
      "cell_type": "markdown",
      "metadata": {
        "id": "7Rsre2gS3oDf"
      },
      "source": [
        "Para obtener solo los parámetros podemos f$par."
      ]
    },
    {
      "cell_type": "code",
      "metadata": {
        "id": "6ZCPZKMn3WX2",
        "outputId": "ef29db95-63a4-40cd-a887-5b250dc3f97f",
        "colab": {
          "base_uri": "https://localhost:8080/",
          "height": 34
        }
      },
      "source": [
        "f$par"
      ],
      "execution_count": 41,
      "outputs": [
        {
          "output_type": "display_data",
          "data": {
            "text/plain": [
              "       k1        k2        k3        k4 \n",
              " 6.032264 12.995404  0.912848  1.113765 "
            ],
            "text/latex": "\\begin{description*}\n\\item[k1] 6.03226399933005\n\\item[k2] 12.9954037781815\n\\item[k3] 0.912847950892243\n\\item[k4] 1.11376468445969\n\\end{description*}\n",
            "text/markdown": "k1\n:   6.03226399933005k2\n:   12.9954037781815k3\n:   0.912847950892243k4\n:   1.11376468445969\n\n",
            "text/html": [
              "<style>\n",
              ".dl-inline {width: auto; margin:0; padding: 0}\n",
              ".dl-inline>dt, .dl-inline>dd {float: none; width: auto; display: inline-block}\n",
              ".dl-inline>dt::after {content: \":\\0020\"; padding-right: .5ex}\n",
              ".dl-inline>dt:not(:first-of-type) {padding-left: .5ex}\n",
              "</style><dl class=dl-inline><dt>k1</dt><dd>6.03226399933005</dd><dt>k2</dt><dd>12.9954037781815</dd><dt>k3</dt><dd>0.912847950892243</dd><dt>k4</dt><dd>1.11376468445969</dd></dl>\n"
            ]
          },
          "metadata": {
            "tags": []
          }
        }
      ]
    },
    {
      "cell_type": "markdown",
      "metadata": {
        "id": "LRmelgo34fuX"
      },
      "source": [
        "Para obtener la sumar de los errores al cuadrado usamos *f$ssr*"
      ]
    },
    {
      "cell_type": "code",
      "metadata": {
        "id": "9UEwrVIh4UNH",
        "outputId": "fb156ab4-37d6-4e40-bbd8-5987e042fdc0",
        "colab": {
          "base_uri": "https://localhost:8080/",
          "height": 34
        }
      },
      "source": [
        "f$ssr"
      ],
      "execution_count": 42,
      "outputs": [
        {
          "output_type": "display_data",
          "data": {
            "text/plain": [
              "[1] 0.0136076"
            ],
            "text/latex": "0.0136076039871664",
            "text/markdown": "0.0136076039871664",
            "text/html": [
              "0.0136076039871664"
            ]
          },
          "metadata": {
            "tags": []
          }
        }
      ]
    }
  ]
}